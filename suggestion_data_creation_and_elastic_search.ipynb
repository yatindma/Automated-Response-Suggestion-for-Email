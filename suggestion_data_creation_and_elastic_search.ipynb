{
  "nbformat": 4,
  "nbformat_minor": 0,
  "metadata": {
    "colab": {
      "name": "suggestion- data_creation and elastic search.ipynb",
      "provenance": [],
      "collapsed_sections": [],
      "authorship_tag": "ABX9TyNP+1HO5zyLVSrSSNasTlmH",
      "include_colab_link": true
    },
    "kernelspec": {
      "name": "python3",
      "display_name": "Python 3"
    },
    "language_info": {
      "name": "python"
    }
  },
  "cells": [
    {
      "cell_type": "markdown",
      "metadata": {
        "id": "view-in-github",
        "colab_type": "text"
      },
      "source": [
        "<a href=\"https://colab.research.google.com/github/yatindma/Automated-Response-Suggestion-for-Email/blob/master/suggestion_data_creation_and_elastic_search.ipynb\" target=\"_parent\"><img src=\"https://colab.research.google.com/assets/colab-badge.svg\" alt=\"Open In Colab\"/></a>"
      ]
    },
    {
      "cell_type": "code",
      "metadata": {
        "id": "xnVv2DTDS-Qi"
      },
      "source": [
        "!pip install fast-autocomplete\n",
        "!pip install fast-autocomplete[levenshtein]\n",
        "!pip3 install scispacy"
      ],
      "execution_count": null,
      "outputs": []
    },
    {
      "cell_type": "code",
      "metadata": {
        "id": "D-o7p-F_UGPB"
      },
      "source": [
        "from itertools import permutations\n",
        "\n",
        "# Function to generate permutations\n",
        "# of all words in a sentence\n",
        "def calculatePermutations(sentence):\n",
        "\n",
        "  # Stores all words in the sentence\n",
        "  lis = list(sentence.split())\n",
        "\n",
        "  # Stores all possible permuations\n",
        "  # of words in this list\n",
        "  permute = permutations(lis)\n",
        "\n",
        "  # Iterate over all permutations\n",
        "  arr_of_words = []\n",
        "  for i in permute:\n",
        "    \n",
        "    # Convert the current\n",
        "    # permutation into a list\n",
        "    permutelist = list(i)\n",
        "    \n",
        "    # Print the words in the\n",
        "    # list separated by spaces\n",
        "    word = \"\"\n",
        "    for j in permutelist:\n",
        "      word += j + \" \"\n",
        "      \n",
        "    arr_of_words.append(word.strip())\n",
        "  return arr_of_words\n"
      ],
      "execution_count": null,
      "outputs": []
    },
    {
      "cell_type": "code",
      "metadata": {
        "id": "DdD7pWnOUGk4"
      },
      "source": [
        "sales_trend = {\"Sales Goal\" : \"sales_trend\", \"Sales\" : \"sales_trend\",\"Traffic\" : \"sales_trend\",\"netsales\" : \"sales_trend\",\"Salesgap\" : \"sales_trend\"}\n",
        "avg_dollar_per_transaction = {\"Basket Analysis\" : \"avg_dollar_per_transaction\",\"ADT\" : \"avg_dollar_per_transaction\" ,\"Maximum\" : \"avg_dollar_per_transaction\",\"Upper Quartile\" : \"avg_dollar_per_transaction\",\"Median\" : \"avg_dollar_per_transaction\",\"Lower Quartile\" : \"avg_dollar_per_transaction\",\"Minimum\" : \"avg_dollar_per_transaction\"}\n",
        "sales_accross_USA = {\"Calender Date\" : \"sales_accross_USA\",\"Year Num\" : \"sales_accross_USA\",\"QuarterNum\" : \"sales_accross_USA\",\"QuarterDesc\" : \"sales_accross_USA\",\"MonthNum\" : \"sales_accross_USA\",\"MonthDesc\" : \"sales_accross_USA\",\"WeekNum\" : \"sales_accross_USA\",\"DayNum\" : \"sales_accross_USA\",\"Sales\" : \"sales_accross_USA\",\"SalesGoal\" : \"sales_accross_USA\",\"StoreKey\" : \"sales_accross_USA\",\"StoreName\" : \"sales_accross_USA\",\"GeoLat\" : \"sales_accross_USA\",\"GeoLat\" : \"sales_accross_USA\",\"SalesColor\" : \"sales_accross_USA\"}\n",
        "Sales_Analysis_By_Store  = {\"Sales\" : \"Sales_Analysis_By_Store\",\"Sales Goal\" : \"Sales_Analysis_By_Store\",\"Returns\" : \"Sales_Analysis_By_Store\",\"netsales\" : \"Sales_Analysis_By_Store\"}\n",
        "traffic_trend = {\"Traffic\" : \"traffic_trend\",\"Sales\" : \"traffic_trend\",\"Sales Goal\" : \"traffic_trend\",\"Sales Variance\" : \"traffic_trend\"}\n",
        "Sales_Goal_VS_Actual = {\"Sales goal\" : \"Sales_Goal_VS_Actual\",\"Sale\": \"Sales_Goal_VS_Actual\"}\n",
        "adt = {'Transaction Avg' : \"adt\"}\n",
        "Sales_Revenue = {\"Revenue By Sq.ft\" : \"Sales_Revenue\"}\n",
        "Sales_Qty_vs_Return_Qty_vs_Void_Qty = {\"Sales Qty\" : \"Sales_Qty_vs_Return_Qty_vs_Void_Qty\",\"Return Qty\" : \"Sales_Qty_vs_Return_Qty_vs_Void_Qty\",\"Void Qty\" : \"Sales_Qty_vs_Return_Qty_vs_Void_Qty\",\"netsales\": \"Sales_Qty_vs_Return_Qty_vs_Void_Qty\"}\n"
      ],
      "execution_count": null,
      "outputs": []
    },
    {
      "cell_type": "code",
      "metadata": {
        "id": "AGmGXkvNaes2"
      },
      "source": [
        "over_all = [sales_trend, avg_dollar_per_transaction, sales_accross_USA, Sales_Analysis_By_Store, traffic_trend, Sales_Goal_VS_Actual, adt, Sales_Revenue, Sales_Qty_vs_Return_Qty_vs_Void_Qty]\n",
        "lower_over_all = []\n",
        "for dict_ in over_all:\n",
        "  new_dict = {}\n",
        "  for letter in dict_:\n",
        "      number = dict_[letter]\n",
        "      new_dict.update({letter.lower():number})\n",
        "  lower_over_all.append(new_dict)\n",
        "over_all = lower_over_all  "
      ],
      "execution_count": null,
      "outputs": []
    },
    {
      "cell_type": "code",
      "metadata": {
        "id": "zdTdfPSPVkYH"
      },
      "source": [
        "huge_dict = {}\n",
        "for arr in over_all:\n",
        "  for element in arr:\n",
        "    # values will have where it belongs to\n",
        "    value = arr[element]\n",
        "    temp_arr = calculatePermutations(element)\n",
        "    for randomised_sent in temp_arr:\n",
        "      if randomised_sent in huge_dict:\n",
        "        get_value = huge_dict[randomised_sent]\n",
        "        if not value in get_value:\n",
        "          temp_arr = get_value + [value]\n",
        "          huge_dict[randomised_sent] = temp_arr\n",
        "        else:\n",
        "          huge_dict[randomised_sent] = [value]\n",
        "      else:\n",
        "        huge_dict[randomised_sent] = [value]"
      ],
      "execution_count": null,
      "outputs": []
    },
    {
      "cell_type": "code",
      "metadata": {
        "id": "hgwGrppsV_iq"
      },
      "source": [
        "_words = {}\n",
        "for word in huge_dict:\n",
        "  _words[word] = {}"
      ],
      "execution_count": null,
      "outputs": []
    },
    {
      "cell_type": "code",
      "metadata": {
        "colab": {
          "base_uri": "https://localhost:8080/"
        },
        "id": "vYdUMJIRVkbp",
        "outputId": "9d092a6e-568d-48bc-c351-591ade579423"
      },
      "source": [
        "import os, sys\n",
        "import re\n",
        "import spacy\n",
        "import scispacy\n",
        "from spacy.training import biluo_tags_to_spans\n",
        "\n",
        "from fast_autocomplete import AutoComplete\n",
        "\n",
        "_sentence = \"k\"\n",
        "def main():\n",
        "  '''Sample elastic search project'''\n",
        "  autocomplete = AutoComplete(words=_words)\n",
        "  words = _sentence.split(' ')\n",
        "  length = len(words)\n",
        "  word = words[length - 1]\n",
        "  results = autocomplete.search(word= word, max_cost=3, size=10)\n",
        "\n",
        "  #Prepare the suggestions base string\n",
        "  base_string = ''\n",
        "  for i in range(0, length - 2):\n",
        "    base_string = ('{} {}').format(base_string, words[i])\n",
        "\n",
        "  base_string.strip(' ')\n",
        "\n",
        "  suggestions = []\n",
        "  for result in results:\n",
        "    text = base_string + ' ' + result[0]\n",
        "    suggestions.append(text.strip(' '))\n",
        "  suggest = []\n",
        "  for suggestion in suggestions:\n",
        "    suggest += huge_dict[suggestion]\n",
        "  return list(set(suggest))\n",
        "\n",
        "\"\"\"Required for all python programs\"\"\"\n",
        "if __name__ == '__main__':\n",
        "  print('Starting the elastic search')\n",
        "  print(main())\n",
        "  print('completed the elastic search')\n"
      ],
      "execution_count": null,
      "outputs": [
        {
          "output_type": "stream",
          "text": [
            "Starting the elastic search\n",
            "['sales_accross_USA', 'avg_dollar_per_transaction', 'sales_trend', 'Sales_Analysis_By_Store', 'Sales_Goal_VS_Actual', 'traffic_trend']\n",
            "completed the elastic search\n"
          ],
          "name": "stdout"
        }
      ]
    },
    {
      "cell_type": "code",
      "metadata": {
        "id": "9ZOS6A5tVke3"
      },
      "source": [
        "# user will get confused here"
      ],
      "execution_count": null,
      "outputs": []
    },
    {
      "cell_type": "code",
      "metadata": {
        "id": "abiSFonHVkho"
      },
      "source": [
        ""
      ],
      "execution_count": null,
      "outputs": []
    },
    {
      "cell_type": "markdown",
      "metadata": {
        "id": "ESbMZ55xnhsx"
      },
      "source": [
        "**ANOTHER SUGGESTION APPROACH** - suggest correct words even the word is entered in reversed manner - eg. if original prediction should me \"sales group\", \"sales groupon\" but user entered \"gr\" we'll suggest \"sales group\" and \"sales groupon\""
      ]
    },
    {
      "cell_type": "code",
      "metadata": {
        "id": "BiY5FkndVkk3"
      },
      "source": [
        "sales_trend = {\"Sales Goal\" : \"sales_trend\", \"Sales\" : \"sales_trend\",\"Traffic\" : \"sales_trend\",\"netsales\" : \"sales_trend\",\"Salesgap\" : \"sales_trend\"}\n",
        "avg_dollar_per_transaction = {\"Basket Analysis\" : \"avg_dollar_per_transaction\",\"ADT\" : \"avg_dollar_per_transaction\" ,\"Maximum\" : \"avg_dollar_per_transaction\",\"Upper Quartile\" : \"avg_dollar_per_transaction\",\"Median\" : \"avg_dollar_per_transaction\",\"Lower Quartile\" : \"avg_dollar_per_transaction\",\"Minimum\" : \"avg_dollar_per_transaction\"}\n",
        "sales_accross_USA = {\"Calender Date\" : \"sales_accross_USA\",\"Year Num\" : \"sales_accross_USA\",\"QuarterNum\" : \"sales_accross_USA\",\"QuarterDesc\" : \"sales_accross_USA\",\"MonthNum\" : \"sales_accross_USA\",\"MonthDesc\" : \"sales_accross_USA\",\"WeekNum\" : \"sales_accross_USA\",\"DayNum\" : \"sales_accross_USA\",\"Sales\" : \"sales_accross_USA\",\"SalesGoal\" : \"sales_accross_USA\",\"StoreKey\" : \"sales_accross_USA\",\"StoreName\" : \"sales_accross_USA\",\"GeoLat\" : \"sales_accross_USA\",\"GeoLat\" : \"sales_accross_USA\",\"SalesColor\" : \"sales_accross_USA\"}\n",
        "Sales_Analysis_By_Store  = {\"Sales\" : \"Sales_Analysis_By_Store\",\"Sales Goal\" : \"Sales_Analysis_By_Store\",\"Returns\" : \"Sales_Analysis_By_Store\",\"netsales\" : \"Sales_Analysis_By_Store\"}\n",
        "traffic_trend = {\"Traffic\" : \"traffic_trend\",\"Sales\" : \"traffic_trend\",\"Sales Goal\" : \"traffic_trend\",\"Sales Variance\" : \"traffic_trend\"}\n",
        "Sales_Goal_VS_Actual = {\"Sales goal\" : \"Sales_Goal_VS_Actual\",\"Sale\": \"Sales_Goal_VS_Actual\"}\n",
        "adt = {'Transaction Avg' : \"adt\"}\n",
        "Sales_Revenue = {\"Revenue By Sq.ft\" : \"Sales_Revenue\"}\n",
        "Sales_Qty_vs_Return_Qty_vs_Void_Qty = {\"Sales Qty\" : \"Sales_Qty_vs_Return_Qty_vs_Void_Qty\",\"Return Qty\" : \"Sales_Qty_vs_Return_Qty_vs_Void_Qty\",\"Void Qty\" : \"Sales_Qty_vs_Return_Qty_vs_Void_Qty\",\"netsales\": \"Sales_Qty_vs_Return_Qty_vs_Void_Qty\"}\n"
      ],
      "execution_count": null,
      "outputs": []
    },
    {
      "cell_type": "code",
      "metadata": {
        "id": "xAekdeHZnn5p"
      },
      "source": [
        "ver_all = [sales_trend, avg_dollar_per_transaction, sales_accross_USA, Sales_Analysis_By_Store, traffic_trend, Sales_Goal_VS_Actual, adt, Sales_Revenue, Sales_Qty_vs_Return_Qty_vs_Void_Qty]"
      ],
      "execution_count": null,
      "outputs": []
    },
    {
      "cell_type": "code",
      "metadata": {
        "id": "CjbgXus-n4Rr"
      },
      "source": [
        "lower_over_all = []\n",
        "for dict_ in over_all:\n",
        "  new_dict = {}\n",
        "  for letter in dict_:\n",
        "      number = dict_[letter]\n",
        "      new_dict.update({letter.lower():number})\n",
        "  lower_over_all.append(new_dict)\n",
        "over_all = lower_over_all  "
      ],
      "execution_count": null,
      "outputs": []
    },
    {
      "cell_type": "code",
      "metadata": {
        "colab": {
          "base_uri": "https://localhost:8080/"
        },
        "id": "RHBuLbMToRyk",
        "outputId": "d1e53f3a-d661-42df-9558-0c55dd87dbe1"
      },
      "source": [
        "over_all"
      ],
      "execution_count": null,
      "outputs": [
        {
          "output_type": "execute_result",
          "data": {
            "text/plain": [
              "[{'netsales': 'sales_trend',\n",
              "  'sales': 'sales_trend',\n",
              "  'sales goal': 'sales_trend',\n",
              "  'salesgap': 'sales_trend',\n",
              "  'traffic': 'sales_trend'},\n",
              " {'adt': 'avg_dollar_per_transaction',\n",
              "  'basket analysis': 'avg_dollar_per_transaction',\n",
              "  'lower quartile': 'avg_dollar_per_transaction',\n",
              "  'maximum': 'avg_dollar_per_transaction',\n",
              "  'median': 'avg_dollar_per_transaction',\n",
              "  'minimum': 'avg_dollar_per_transaction',\n",
              "  'upper quartile': 'avg_dollar_per_transaction'},\n",
              " {'calender date': 'sales_accross_USA',\n",
              "  'daynum': 'sales_accross_USA',\n",
              "  'geolat': 'sales_accross_USA',\n",
              "  'monthdesc': 'sales_accross_USA',\n",
              "  'monthnum': 'sales_accross_USA',\n",
              "  'quarterdesc': 'sales_accross_USA',\n",
              "  'quarternum': 'sales_accross_USA',\n",
              "  'sales': 'sales_accross_USA',\n",
              "  'salescolor': 'sales_accross_USA',\n",
              "  'salesgoal': 'sales_accross_USA',\n",
              "  'storekey': 'sales_accross_USA',\n",
              "  'storename': 'sales_accross_USA',\n",
              "  'weeknum': 'sales_accross_USA',\n",
              "  'year num': 'sales_accross_USA'},\n",
              " {'netsales': 'Sales_Analysis_By_Store',\n",
              "  'returns': 'Sales_Analysis_By_Store',\n",
              "  'sales': 'Sales_Analysis_By_Store',\n",
              "  'sales goal': 'Sales_Analysis_By_Store'},\n",
              " {'sales': 'traffic_trend',\n",
              "  'sales goal': 'traffic_trend',\n",
              "  'sales variance': 'traffic_trend',\n",
              "  'traffic': 'traffic_trend'},\n",
              " {'sale': 'Sales_Goal_VS_Actual', 'sales goal': 'Sales_Goal_VS_Actual'},\n",
              " {'transaction avg': 'adt'},\n",
              " {'revenue by sq.ft': 'Sales_Revenue'},\n",
              " {'netsales': 'Sales_Qty_vs_Return_Qty_vs_Void_Qty',\n",
              "  'return qty': 'Sales_Qty_vs_Return_Qty_vs_Void_Qty',\n",
              "  'sales qty': 'Sales_Qty_vs_Return_Qty_vs_Void_Qty',\n",
              "  'void qty': 'Sales_Qty_vs_Return_Qty_vs_Void_Qty'}]"
            ]
          },
          "metadata": {
            "tags": []
          },
          "execution_count": 32
        }
      ]
    },
    {
      "cell_type": "code",
      "metadata": {
        "id": "h5TeYS1On7hX"
      },
      "source": [
        "temp_arr = []\n",
        "dictionary = {}\n",
        "for arr in over_all:\n",
        "  for_each_arr = []\n",
        "  for element in arr:\n",
        "    # values will have where it belongs to\n",
        "    temp_arr = calculatePermutations(element)\n",
        "    for temp in temp_arr:\n",
        "      dictionary[temp] = temp_arr[0]\n",
        "      "
      ],
      "execution_count": null,
      "outputs": []
    },
    {
      "cell_type": "code",
      "metadata": {
        "colab": {
          "base_uri": "https://localhost:8080/"
        },
        "id": "E0plHMLEPocs",
        "outputId": "cf7d7706-bab0-44ed-a5af-d55dc78e53bf"
      },
      "source": [
        "dictionary"
      ],
      "execution_count": null,
      "outputs": [
        {
          "output_type": "execute_result",
          "data": {
            "text/plain": [
              "{'adt': 'adt',\n",
              " 'analysis basket': 'basket analysis',\n",
              " 'avg transaction': 'transaction avg',\n",
              " 'basket analysis': 'basket analysis',\n",
              " 'by revenue sq.ft': 'revenue by sq.ft',\n",
              " 'by sq.ft revenue': 'revenue by sq.ft',\n",
              " 'calender date': 'calender date',\n",
              " 'date calender': 'calender date',\n",
              " 'daynum': 'daynum',\n",
              " 'geolat': 'geolat',\n",
              " 'goal sales': 'sales goal',\n",
              " 'lower quartile': 'lower quartile',\n",
              " 'maximum': 'maximum',\n",
              " 'median': 'median',\n",
              " 'minimum': 'minimum',\n",
              " 'monthdesc': 'monthdesc',\n",
              " 'monthnum': 'monthnum',\n",
              " 'netsales': 'netsales',\n",
              " 'num year': 'year num',\n",
              " 'qty return': 'return qty',\n",
              " 'qty sales': 'sales qty',\n",
              " 'qty void': 'void qty',\n",
              " 'quarterdesc': 'quarterdesc',\n",
              " 'quarternum': 'quarternum',\n",
              " 'quartile lower': 'lower quartile',\n",
              " 'quartile upper': 'upper quartile',\n",
              " 'return qty': 'return qty',\n",
              " 'returns': 'returns',\n",
              " 'revenue by sq.ft': 'revenue by sq.ft',\n",
              " 'revenue sq.ft by': 'revenue by sq.ft',\n",
              " 'sale': 'sale',\n",
              " 'sales': 'sales',\n",
              " 'sales goal': 'sales goal',\n",
              " 'sales qty': 'sales qty',\n",
              " 'sales variance': 'sales variance',\n",
              " 'salescolor': 'salescolor',\n",
              " 'salesgap': 'salesgap',\n",
              " 'salesgoal': 'salesgoal',\n",
              " 'sq.ft by revenue': 'revenue by sq.ft',\n",
              " 'sq.ft revenue by': 'revenue by sq.ft',\n",
              " 'storekey': 'storekey',\n",
              " 'storename': 'storename',\n",
              " 'traffic': 'traffic',\n",
              " 'transaction avg': 'transaction avg',\n",
              " 'upper quartile': 'upper quartile',\n",
              " 'variance sales': 'sales variance',\n",
              " 'void qty': 'void qty',\n",
              " 'weeknum': 'weeknum',\n",
              " 'year num': 'year num'}"
            ]
          },
          "metadata": {
            "tags": []
          },
          "execution_count": 36
        }
      ]
    },
    {
      "cell_type": "code",
      "metadata": {
        "id": "z3TiMb-0oKsd"
      },
      "source": [
        "_words = {}\n",
        "for word in dictionary:\n",
        "  _words[word] = {}"
      ],
      "execution_count": null,
      "outputs": []
    },
    {
      "cell_type": "code",
      "metadata": {
        "colab": {
          "base_uri": "https://localhost:8080/"
        },
        "id": "bnTTKVIIqvCE",
        "outputId": "ff3a79bf-e362-4797-c80e-b0a90616cf83"
      },
      "source": [
        "import os, sys\n",
        "import re\n",
        "import spacy\n",
        "import scispacy\n",
        "from spacy.training import biluo_tags_to_spans\n",
        "\n",
        "from fast_autocomplete import AutoComplete\n",
        "\n",
        "_sentence = \"h\"\n",
        "def main():\n",
        "  '''Sample elastic search project'''\n",
        "  autocomplete = AutoComplete(words=_words)\n",
        "  words = _sentence.split(' ')\n",
        "  length = len(words)\n",
        "  word = words[length - 1]\n",
        "  results = autocomplete.search(word= word, max_cost=3, size=10)\n",
        "\n",
        "  #Prepare the suggestions base string\n",
        "  base_string = ''\n",
        "  for i in range(0, length - 2):\n",
        "    base_string = ('{} {}').format(base_string, words[i])\n",
        "\n",
        "  base_string.strip(' ')\n",
        "\n",
        "  suggestions = []\n",
        "  for result in results:\n",
        "    text = base_string + ' ' + result[0]\n",
        "    suggestions.append(text.strip(' '))\n",
        "  suggest = []\n",
        "  for suggestion in suggestions:\n",
        "    # print(suggestion)\n",
        "    suggest.append(dictionary[suggestion])\n",
        "  return list(set(suggest))\n",
        "\n",
        "\"\"\"Required for all python programs\"\"\"\n",
        "if __name__ == '__main__':\n",
        "  import time\n",
        "  start = time.time()\n",
        "  print(main())\n",
        "  end = time.time()\n",
        "  print(\"time taken is\", (end - start))\n"
      ],
      "execution_count": null,
      "outputs": [
        {
          "output_type": "stream",
          "text": [
            "['traffic', 'sale', 'daynum', 'sales', 'adt', 'maximum', 'median', 'weeknum', 'minimum', 'geolat']\n",
            "time taken is 0.0012459754943847656\n"
          ],
          "name": "stdout"
        }
      ]
    },
    {
      "cell_type": "code",
      "metadata": {
        "id": "4s5UWE4nqyn9"
      },
      "source": [
        ""
      ],
      "execution_count": null,
      "outputs": []
    },
    {
      "cell_type": "markdown",
      "metadata": {
        "id": "Qs_9sbHjHseZ"
      },
      "source": [
        "# Bala Approach"
      ]
    },
    {
      "cell_type": "code",
      "metadata": {
        "colab": {
          "base_uri": "https://localhost:8080/"
        },
        "id": "gkAuFOt5HuSu",
        "outputId": "2be6b4ce-b796-4236-802b-04bbe22f128a"
      },
      "source": [
        "\n",
        "#imports\n",
        "import os, sys\n",
        "import re\n",
        "import spacy\n",
        "import scispacy\n",
        "from spacy.training import biluo_tags_to_spans\n",
        "\n",
        "from fast_autocomplete import AutoComplete\n",
        "\n",
        "_words = {\n",
        "  'sales' : {'type' : 'actuals'},\n",
        "  'sales data' : {'type' : 'actuals'},\n",
        "  'current sales' : {'type' : 'actuals'},\n",
        "  'actual sales' : {'type' : 'actuals'},\n",
        "  'target sales' : {'type' : 'planned'},\n",
        "  'expected sales' : {'type' : 'planned'},\n",
        "  'planned sales' : {'type' : 'planned'}\n",
        "  }\n",
        "_sentence = \"Show me the sal\"\n",
        "def main():\n",
        "  '''Sample elastic search project'''\n",
        "  #autocomplete = AutoComplete(words=_words, synonyms= _synonyms)\n",
        "  autocomplete = AutoComplete(words=_words)\n",
        "  words = _sentence.split(' ')\n",
        "  length = len(words)\n",
        "  word = words[length - 1]\n",
        "  results = autocomplete.search(word= word, max_cost= 1000, size=10)\n",
        "\n",
        "  #Prepare the suggestions base string\n",
        "  base_string = ''\n",
        "  for i in range(0, length - 2):\n",
        "    base_string = ('{} {}').format(base_string, words[i])\n",
        "\n",
        "  base_string.strip(' ')\n",
        "\n",
        "  suggestions = []\n",
        "  for result in results:\n",
        "    for key in _words.keys():\n",
        "      if key.find(result[0]) >= -1:\n",
        "        text = (base_string + ' ' + key).strip(' ')\n",
        "        if text not in suggestions:\n",
        "          suggestions.append(text)\n",
        "\n",
        "  for suggestion in suggestions:\n",
        "    print(suggestion)\n",
        "  return\n",
        "\n",
        "\"\"\"Required for all python programs\"\"\"\n",
        "if __name__ == '__main__':\n",
        "  print('Starting the elastic search')\n",
        "  main()\n",
        "  print('completed the elastic search')\n",
        "\n",
        "Show me sales : \"heading\""
      ],
      "execution_count": null,
      "outputs": [
        {
          "output_type": "stream",
          "text": [
            "Starting the elastic search\n",
            "Show me sales\n",
            "Show me sales data\n",
            "Show me current sales\n",
            "Show me actual sales\n",
            "Show me target sales\n",
            "Show me expected sales\n",
            "Show me planned sales\n",
            "completed the elastic search\n"
          ],
          "name": "stdout"
        }
      ]
    },
    {
      "cell_type": "code",
      "metadata": {
        "id": "R8wbbfr-Hu8V"
      },
      "source": [
        ""
      ],
      "execution_count": null,
      "outputs": []
    }
  ]
}